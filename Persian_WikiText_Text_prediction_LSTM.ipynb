{
 "cells": [
  {
   "cell_type": "markdown",
   "metadata": {
    "id": "S7qtlao7ui6V"
   },
   "source": [
    "# Import Libraries"
   ]
  },
  {
   "cell_type": "code",
   "execution_count": 50,
   "metadata": {
    "colab": {
     "base_uri": "https://localhost:8080/"
    },
    "id": "yINLyf93umc_",
    "outputId": "5de4a376-b593-4980-fd7d-96e6292f23de"
   },
   "outputs": [
    {
     "name": "stdout",
     "output_type": "stream",
     "text": [
      "Python version: 3.8.16\n",
      "Tensorflow version: 2.9.2\n",
      "Keras version: 2.9.0\n"
     ]
    }
   ],
   "source": [
    "import tensorflow as tf\n",
    "import matplotlib.pyplot as plt\n",
    "import numpy as np\n",
    "import platform\n",
    "import time\n",
    "import pathlib\n",
    "import os\n",
    "\n",
    "print('Python version:', platform.python_version())\n",
    "print('Tensorflow version:', tf.__version__)\n",
    "print('Keras version:', tf.keras.__version__)"
   ]
  },
  {
   "cell_type": "markdown",
   "metadata": {
    "id": "U5AZW4Pyuupa"
   },
   "source": [
    "# Unzip and Load dataset"
   ]
  },
  {
   "cell_type": "code",
   "execution_count": 51,
   "metadata": {
    "colab": {
     "base_uri": "https://localhost:8080/"
    },
    "id": "3cSdz2XAuqyM",
    "outputId": "5eb4ade4-ab9b-4ad6-c06a-6539cf85b5c6"
   },
   "outputs": [
    {
     "name": "stdout",
     "output_type": "stream",
     "text": [
      "Archive:  /content/Persian-WikiText-1.txt.zip\n",
      "replace Persian-WikiText-1.txt? [y]es, [n]o, [A]ll, [N]one, [r]ename: y\n",
      "  inflating: Persian-WikiText-1.txt  \n"
     ]
    }
   ],
   "source": [
    "!unzip '/content/Persian-WikiText-1.txt.zip'"
   ]
  },
  {
   "cell_type": "code",
   "execution_count": 52,
   "metadata": {
    "id": "zSCTKnfmu43d"
   },
   "outputs": [],
   "source": [
    "filename = '/content/Persian-WikiText-1.txt'\n",
    "text = open(filename, 'r', encoding='utf-8').read()"
   ]
  },
  {
   "cell_type": "markdown",
   "metadata": {
    "id": "UHy0VOOMv23P"
   },
   "source": [
    "# Analyze the dataset"
   ]
  },
  {
   "cell_type": "code",
   "execution_count": 53,
   "metadata": {
    "colab": {
     "base_uri": "https://localhost:8080/"
    },
    "id": "pyUrCeBOvAeT",
    "outputId": "bfa49785-268b-4645-a014-ba2fc1313f89"
   },
   "outputs": [
    {
     "name": "stdout",
     "output_type": "stream",
     "text": [
      "Length of text: 56695909 characters\n"
     ]
    }
   ],
   "source": [
    "print('Length of text: {} characters'.format(len(text)))"
   ]
  },
  {
   "cell_type": "code",
   "execution_count": 54,
   "metadata": {
    "colab": {
     "base_uri": "https://localhost:8080/"
    },
    "id": "r-U8Xsirv-Ay",
    "outputId": "00ea2dd9-6bf1-4899-b307-ab6e16e59972"
   },
   "outputs": [
    {
     "name": "stdout",
     "output_type": "stream",
     "text": [
      "عنوان مقاله: صفحهٔ اصلی\n",
      "\n",
      "<templatestyles src=\"صفحه اصلی/\n",
      "\n",
      "\n",
      "\n",
      "عنوان مقاله: ویکی پدیا\n",
      "\n",
      "ویکی پدیا (کوته نوشت به صورت «وپ» و «WP») یک دانشنامه برخط چندزبانه مبتنی بر وب با محتوای آزاد و همکاری باز است که با همکاری افراد داوطلب نوشته می شود و هر کسی که به اینترنت و وب دسترسی داشته باشد می تواند مقالات آن را ببیند و ویرایش کند. نام ویکی پدیا واژه ای ترکیبی است که از واژه های ویکی (وبگاه مشارکتی) و اِنسایکلوپدیا (Encyclopedia) (دانشنامه یا دائرةالمعارف) گرفته شده است. هدف ویکی پدیا آفرینش و انتشار جهانی یک دانشنامه با محتوای آزاد به تمامی زبان های زندهٔ دنیا است.\n",
      "\n",
      "ویکی پدیای انگلیسی در تاریخ ۱۵ ژانویه ۲۰۰۱ (۲۶ دی ۱۳۷۹) به صورت مکملی برای دانشنامهٔ تخصصی نیوپدیا نوشته شد. بنیان گذاران آن «جیمی ویلز» و «لری سنگر» هستند. هم اکنون بنیاد غیرانتفاعی ویکی مدیا پروژهٔ ویکی پدیا را پشتیبانی می کند. میزبان های اینترنتی اصلی این وبگاه در شهر تامپای فلوریدا هستند. همچنین میزبان های اضافی دیگری هم در شهرهای آمستردام و سئول به این وبگاه یاری می رسانند.\n",
      "\n",
      "\"ویکی پدیا\" از پایان آوریل ۲۰۰۷ تا اکتبر ۲۰۱۹، یکی از \n"
     ]
    }
   ],
   "source": [
    "print(text[:1000])"
   ]
  },
  {
   "cell_type": "code",
   "execution_count": 55,
   "metadata": {
    "id": "Z-N-mZA0wBbm"
   },
   "outputs": [],
   "source": [
    "text = text[:1000000]\n",
    "text = text.lower()\n",
    "text = text.replace('\\n', ' ')"
   ]
  },
  {
   "cell_type": "code",
   "execution_count": 56,
   "metadata": {
    "colab": {
     "base_uri": "https://localhost:8080/"
    },
    "id": "IX8i982vwHqx",
    "outputId": "2c49f2c6-c7ec-4725-8851-9424d973371d"
   },
   "outputs": [
    {
     "name": "stdout",
     "output_type": "stream",
     "text": [
      "193 unique characters\n",
      "vocab: [' ', '!', '\"', \"'\", '(', ')', '+', ',', '-', '.', '/', '0', '1', '2', '3', '4', '5', '6', '7', '8', '9', ':', ';', '<', '=', '>', '[', ']', '^', '_', 'a', 'b', 'c', 'd', 'e', 'f', 'g', 'h', 'i', 'j', 'k', 'l', 'm', 'n', 'o', 'p', 'q', 'r', 's', 't', 'u', 'v', 'w', 'x', 'y', 'z', '{', '|', '}', '\\xa0', '«', '»', '×', 'à', 'á', 'ã', 'ä', 'ç', 'é', 'ê', 'î', 'ā', 'ć', 'ē', 'ī', 'ń', 'ō', 'ś', 'ş', 'š', 'ˈ', 'ά', 'ή', 'ί', 'α', 'β', 'γ', 'δ', 'ε', 'θ', 'ι', 'λ', 'μ', 'ν', 'ξ', 'ο', 'ρ', 'ς', 'τ', 'ω', 'а', 'е', 'и', 'м', 'н', 'п', 'р', 'т', 'у', 'я', '،', '؛', '؟', 'ء', 'آ', 'أ', 'ؤ', 'ئ', 'ا', 'ب', 'ة', 'ت', 'ث', 'ج', 'ح', 'خ', 'د', 'ذ', 'ر', 'ز', 'س', 'ش', 'ص', 'ض', 'ط', 'ظ', 'ع', 'غ', 'ـ', 'ف', 'ق', 'ل', 'م', 'ن', 'ه', 'و', 'ي', 'ً', 'َ', 'ُ', 'ِ', 'ّ', 'ْ', 'ٔ', '٪', '٫', '٬', 'ٰ', 'پ', 'چ', 'ژ', 'ک', 'گ', 'ۀ', 'ی', '۰', '۱', '۲', '۳', '۴', '۵', '۶', '۷', '۸', '۹', 'ἀ', 'ἑ', 'ὁ', 'ὔ', 'ὕ', 'ῆ', '\\u200d', '\\u200e', '–', '—', '‚', '“', '”', '„', '…', '→', '∞', 'ﷲ']\n"
     ]
    }
   ],
   "source": [
    "vocab = sorted(set(text))\n",
    "\n",
    "print('{} unique characters'.format(len(vocab)))\n",
    "print('vocab:', vocab)"
   ]
  },
  {
   "cell_type": "markdown",
   "metadata": {
    "id": "jon1QYdywRUy"
   },
   "source": [
    "# Process the dataset"
   ]
  },
  {
   "cell_type": "markdown",
   "metadata": {
    "id": "lrVErx8JwXzt"
   },
   "source": [
    "### Vectorize the text\n",
    "\n",
    "Before feeding the text to our RNN we need to convert the text from a sequence of characters to a sequence of numbers. To do so we will detect all unique characters in the text, form a vocabulary out of it and replace each character with its index in the vocabulary."
   ]
  },
  {
   "cell_type": "code",
   "execution_count": 57,
   "metadata": {
    "colab": {
     "base_uri": "https://localhost:8080/"
    },
    "id": "CQMYpLd9wKSr",
    "outputId": "64d1e3cc-3dbf-48b4-9b82-be0435f4b503"
   },
   "outputs": [
    {
     "name": "stdout",
     "output_type": "stream",
     "text": [
      "{\n",
      "  ' ' :   0,\n",
      "  '!' :   1,\n",
      "  '\"' :   2,\n",
      "  \"'\" :   3,\n",
      "  '(' :   4,\n",
      "  ')' :   5,\n",
      "  '+' :   6,\n",
      "  ',' :   7,\n",
      "  '-' :   8,\n",
      "  '.' :   9,\n",
      "  '/' :  10,\n",
      "  '0' :  11,\n",
      "  '1' :  12,\n",
      "  '2' :  13,\n",
      "  '3' :  14,\n",
      "  '4' :  15,\n",
      "  '5' :  16,\n",
      "  '6' :  17,\n",
      "  '7' :  18,\n",
      "  '8' :  19,\n",
      "  ...\n",
      "}\n"
     ]
    }
   ],
   "source": [
    "char_to_int = {char: index for index, char in enumerate(vocab)}\n",
    "\n",
    "print('{')\n",
    "for char, _ in zip(char_to_int, range(20)):\n",
    "    print('  {:4s}: {:3d},'.format(repr(char), char_to_int[char]))\n",
    "print('  ...\\n}')"
   ]
  },
  {
   "cell_type": "code",
   "execution_count": 58,
   "metadata": {
    "colab": {
     "base_uri": "https://localhost:8080/"
    },
    "id": "tGIuMKMGwgKU",
    "outputId": "83d60fa9-fa46-4d0f-d165-6852a8a64f17"
   },
   "outputs": [
    {
     "name": "stdout",
     "output_type": "stream",
     "text": [
      "[' ' '!' '\"' \"'\" '(' ')' '+' ',' '-' '.' '/' '0' '1' '2' '3' '4' '5' '6'\n",
      " '7' '8' '9' ':' ';' '<' '=' '>' '[' ']' '^' '_' 'a' 'b' 'c' 'd' 'e' 'f'\n",
      " 'g' 'h' 'i' 'j' 'k' 'l' 'm' 'n' 'o' 'p' 'q' 'r' 's' 't' 'u' 'v' 'w' 'x'\n",
      " 'y' 'z' '{' '|' '}' '\\xa0' '«' '»' '×' 'à' 'á' 'ã' 'ä' 'ç' 'é' 'ê' 'î'\n",
      " 'ā' 'ć' 'ē' 'ī' 'ń' 'ō' 'ś' 'ş' 'š' 'ˈ' 'ά' 'ή' 'ί' 'α' 'β' 'γ' 'δ' 'ε'\n",
      " 'θ' 'ι' 'λ' 'μ' 'ν' 'ξ' 'ο' 'ρ' 'ς' 'τ' 'ω' 'а' 'е' 'и' 'м' 'н' 'п' 'р'\n",
      " 'т' 'у' 'я' '،' '؛' '؟' 'ء' 'آ' 'أ' 'ؤ' 'ئ' 'ا' 'ب' 'ة' 'ت' 'ث' 'ج' 'ح'\n",
      " 'خ' 'د' 'ذ' 'ر' 'ز' 'س' 'ش' 'ص' 'ض' 'ط' 'ظ' 'ع' 'غ' 'ـ' 'ف' 'ق' 'ل' 'م'\n",
      " 'ن' 'ه' 'و' 'ي' 'ً' 'َ' 'ُ' 'ِ' 'ّ' 'ْ' 'ٔ' '٪' '٫' '٬' 'ٰ' 'پ' 'چ' 'ژ'\n",
      " 'ک' 'گ' 'ۀ' 'ی' '۰' '۱' '۲' '۳' '۴' '۵' '۶' '۷' '۸' '۹' 'ἀ' 'ἑ' 'ὁ' 'ὔ'\n",
      " 'ὕ' 'ῆ' '\\u200d' '\\u200e' '–' '—' '‚' '“' '”' '„' '…' '→' '∞' 'ﷲ']\n"
     ]
    }
   ],
   "source": [
    "int_to_char = np.array(vocab)\n",
    "print(int_to_char)"
   ]
  },
  {
   "cell_type": "markdown",
   "metadata": {
    "id": "PtziHNPvw9AW"
   },
   "source": [
    "# Convert chars in text to indices."
   ]
  },
  {
   "cell_type": "code",
   "execution_count": 59,
   "metadata": {
    "colab": {
     "base_uri": "https://localhost:8080/"
    },
    "id": "taDoklKYw2Ny",
    "outputId": "1d8818d7-3640-42d3-d43d-1dfb9bc41410"
   },
   "outputs": [
    {
     "name": "stdout",
     "output_type": "stream",
     "text": [
      "text_as_int length: 1000000\n",
      "'عنوان مقاله: صف' --> array([136, 143, 145, 118, 143,   0, 142, 140, 118, 141, 144,  21,   0,\n",
      "       132, 139])\n"
     ]
    }
   ],
   "source": [
    "text_as_int = np.array([char_to_int[char] for char in text])\n",
    "\n",
    "print('text_as_int length: {}'.format(len(text_as_int)))\n",
    "print('{} --> {}'.format(repr(text[:15]), repr(text_as_int[:15])))"
   ]
  },
  {
   "cell_type": "markdown",
   "metadata": {
    "id": "rOyW1hmRxa2B"
   },
   "source": [
    "## Create training sequences"
   ]
  },
  {
   "cell_type": "code",
   "execution_count": 60,
   "metadata": {
    "colab": {
     "base_uri": "https://localhost:8080/"
    },
    "id": "bS-jMIKdxTpz",
    "outputId": "a9d0316f-4e07-4712-e1f9-1d801fbba414"
   },
   "outputs": [
    {
     "name": "stdout",
     "output_type": "stream",
     "text": [
      "examples_per_epoch: 9900\n"
     ]
    }
   ],
   "source": [
    "sequence_length = 100\n",
    "examples_per_epoch = len(text) // (sequence_length + 1)\n",
    "\n",
    "print('examples_per_epoch:', examples_per_epoch)"
   ]
  },
  {
   "cell_type": "markdown",
   "metadata": {
    "id": "ftblanAKxxiQ"
   },
   "source": [
    "Create training dataset.\n",
    "tf.data.Dataset.from_tensor_slices used to convert it to tensor based dataset called\n"
   ]
  },
  {
   "cell_type": "code",
   "execution_count": 61,
   "metadata": {
    "colab": {
     "base_uri": "https://localhost:8080/"
    },
    "id": "8Z3wLfRJxnL7",
    "outputId": "af666aad-5ad3-4d54-cf5e-4bff218c30e0"
   },
   "outputs": [
    {
     "name": "stdout",
     "output_type": "stream",
     "text": [
      "ع\n",
      "ن\n",
      "و\n",
      "ا\n",
      "ن\n"
     ]
    }
   ],
   "source": [
    "char_dataset = tf.data.Dataset.from_tensor_slices(text_as_int) \n",
    "\n",
    "for char in char_dataset.take(5):\n",
    "    print(int_to_char[char.numpy()])"
   ]
  },
  {
   "cell_type": "code",
   "execution_count": 62,
   "metadata": {
    "colab": {
     "base_uri": "https://localhost:8080/"
    },
    "id": "6Bhml_7NyArZ",
    "outputId": "3e129a9c-f34f-4a16-d2ba-875261b354f3"
   },
   "outputs": [
    {
     "name": "stdout",
     "output_type": "stream",
     "text": [
      "136\n",
      "143\n",
      "145\n",
      "118\n",
      "143\n"
     ]
    }
   ],
   "source": [
    "for char in char_dataset.take(5):\n",
    "    print(char.numpy())"
   ]
  },
  {
   "cell_type": "markdown",
   "metadata": {
    "id": "NIa9Ioi6yJbZ"
   },
   "source": [
    "mapping indices with characters in text                                       \n",
    "The batch method lets us easily convert these individual characters to sequences of the desired size."
   ]
  },
  {
   "cell_type": "code",
   "execution_count": 63,
   "metadata": {
    "colab": {
     "base_uri": "https://localhost:8080/"
    },
    "id": "u5_amIthyOZ5",
    "outputId": "23c41a5b-21db-4a76-9d41-afa6eba3fc63"
   },
   "outputs": [
    {
     "name": "stdout",
     "output_type": "stream",
     "text": [
      "Sequences count: 9900\n",
      "\n",
      "'عنوان مقاله: صفحهٔ اصلی  <templatestyles src=\"صفحه اصلی/    عنوان مقاله: ویکی پدیا  ویکی پدیا (کوته ن'\n",
      "'وشت به صورت «وپ» و «wp») یک دانشنامه برخط چندزبانه مبتنی بر وب با محتوای آزاد و همکاری باز است که با '\n",
      "'همکاری افراد داوطلب نوشته می شود و هر کسی که به اینترنت و وب دسترسی داشته باشد می تواند مقالات آن را '\n"
     ]
    }
   ],
   "source": [
    "sequences = char_dataset.batch(sequence_length + 1, drop_remainder=True)\n",
    "\n",
    "print('Sequences count: {}'.format(len(list(sequences.as_numpy_iterator()))));\n",
    "print()\n",
    "\n",
    "for item in sequences.take(3):\n",
    "    print(repr(''.join(int_to_char[item.numpy()])))"
   ]
  },
  {
   "cell_type": "code",
   "execution_count": 64,
   "metadata": {
    "id": "RAh_cWajyf9y"
   },
   "outputs": [],
   "source": [
    "def split_input_target(chunk):\n",
    "    input_text = chunk[:-1]\n",
    "    target_text = chunk[1:]\n",
    "    return input_text, target_text"
   ]
  },
  {
   "cell_type": "code",
   "execution_count": 65,
   "metadata": {
    "colab": {
     "base_uri": "https://localhost:8080/"
    },
    "id": "ff3uE9ROysUb",
    "outputId": "0fc84400-1e82-49e4-b9f4-e875cccc8126"
   },
   "outputs": [
    {
     "name": "stdout",
     "output_type": "stream",
     "text": [
      "dataset size: 9900\n"
     ]
    }
   ],
   "source": [
    "dataset = sequences.map(split_input_target)\n",
    "\n",
    "print('dataset size: {}'.format(len(list(dataset.as_numpy_iterator()))))"
   ]
  },
  {
   "cell_type": "code",
   "execution_count": 66,
   "metadata": {
    "colab": {
     "base_uri": "https://localhost:8080/"
    },
    "id": "-4OU9hyRyxz6",
    "outputId": "7ae7aa5a-e44a-4b10-e048-fd86187b71ee"
   },
   "outputs": [
    {
     "name": "stdout",
     "output_type": "stream",
     "text": [
      "Input sequence size: 100\n",
      "Target sequence size: 100\n",
      "\n",
      "Input: 'عنوان مقاله: صفحهٔ اصلی  <templatestyles src=\"صفحه اصلی/    عنوان مقاله: ویکی پدیا  ویکی پدیا (کوته '\n",
      "Target: 'نوان مقاله: صفحهٔ اصلی  <templatestyles src=\"صفحه اصلی/    عنوان مقاله: ویکی پدیا  ویکی پدیا (کوته ن'\n",
      "Input sequence size: 100\n",
      "Target sequence size: 100\n",
      "\n",
      "Input: 'وشت به صورت «وپ» و «wp») یک دانشنامه برخط چندزبانه مبتنی بر وب با محتوای آزاد و همکاری باز است که با'\n",
      "Target: 'شت به صورت «وپ» و «wp») یک دانشنامه برخط چندزبانه مبتنی بر وب با محتوای آزاد و همکاری باز است که با '\n",
      "Input sequence size: 100\n",
      "Target sequence size: 100\n",
      "\n",
      "Input: 'همکاری افراد داوطلب نوشته می شود و هر کسی که به اینترنت و وب دسترسی داشته باشد می تواند مقالات آن را'\n",
      "Target: 'مکاری افراد داوطلب نوشته می شود و هر کسی که به اینترنت و وب دسترسی داشته باشد می تواند مقالات آن را '\n",
      "Input sequence size: 100\n",
      "Target sequence size: 100\n",
      "\n",
      "Input: 'ببیند و ویرایش کند. نام ویکی پدیا واژه ای ترکیبی است که از واژه های ویکی (وبگاه مشارکتی) و اِنسایکلو'\n",
      "Target: 'بیند و ویرایش کند. نام ویکی پدیا واژه ای ترکیبی است که از واژه های ویکی (وبگاه مشارکتی) و اِنسایکلوپ'\n",
      "Input sequence size: 100\n",
      "Target sequence size: 100\n",
      "\n",
      "Input: 'دیا (encyclopedia) (دانشنامه یا دائرةالمعارف) گرفته شده است. هدف ویکی پدیا آفرینش و انتشار جهانی یک '\n",
      "Target: 'یا (encyclopedia) (دانشنامه یا دائرةالمعارف) گرفته شده است. هدف ویکی پدیا آفرینش و انتشار جهانی یک د'\n"
     ]
    }
   ],
   "source": [
    "for input_example, target_example in dataset.take(5):\n",
    "    print('Input sequence size:', repr(len(input_example.numpy())))\n",
    "    print('Target sequence size:', repr(len(target_example.numpy())))\n",
    "    print()\n",
    "    print('Input:', repr(''.join(int_to_char[input_example.numpy()])))\n",
    "    print('Target:', repr(''.join(int_to_char[target_example.numpy()])))"
   ]
  },
  {
   "cell_type": "markdown",
   "metadata": {
    "id": "5U7b0rKzzZqx"
   },
   "source": [
    "## Split training sequences into batches\n",
    "\n",
    "We used `tf.data` to split the text into manageable sequences. But before feeding this data into the model, we need to shuffle the data and pack it into batches."
   ]
  },
  {
   "cell_type": "code",
   "execution_count": 67,
   "metadata": {
    "colab": {
     "base_uri": "https://localhost:8080/"
    },
    "id": "MzcirhAEy5Mv",
    "outputId": "34a71604-2071-481c-8c14-1b202d9d4009"
   },
   "outputs": [
    {
     "data": {
      "text/plain": [
       "<BatchDataset element_spec=(TensorSpec(shape=(64, 100), dtype=tf.int64, name=None), TensorSpec(shape=(64, 100), dtype=tf.int64, name=None))>"
      ]
     },
     "execution_count": 67,
     "metadata": {},
     "output_type": "execute_result"
    }
   ],
   "source": [
    "BATCH_SIZE = 64\n",
    "\n",
    "BUFFER_SIZE = 10000\n",
    "\n",
    "dataset = dataset.shuffle(BUFFER_SIZE).batch(BATCH_SIZE, drop_remainder=True)\n",
    "\n",
    "dataset"
   ]
  },
  {
   "cell_type": "code",
   "execution_count": 68,
   "metadata": {
    "colab": {
     "base_uri": "https://localhost:8080/"
    },
    "id": "zurkWNfgzkla",
    "outputId": "800d51f7-8e86-4565-bf92-fa7d5575c7ca"
   },
   "outputs": [
    {
     "name": "stdout",
     "output_type": "stream",
     "text": [
      "1st batch: input_text: tf.Tensor(\n",
      "[[123 126 164 ... 128 164   0]\n",
      " [118   0 142 ... 162 118 128]\n",
      " [143 142 164 ... 129   0 114]\n",
      " ...\n",
      " [118 129   0 ... 110   0 118]\n",
      " [121 118 126 ... 126   9   0]\n",
      " [164   0 158 ... 125 132   0]], shape=(64, 100), dtype=int64)\n",
      "\n",
      "1st batch: target_text: tf.Tensor(\n",
      "[[126 164 126 ... 164   0 131]\n",
      " [  0 142 124 ... 118 128   0]\n",
      " [142 164   0 ...   0 114 143]\n",
      " ...\n",
      " [129   0 126 ...   0 118 124]\n",
      " [118 126 144 ...   9   0   0]\n",
      " [  0 158 118 ... 132   0 143]], shape=(64, 100), dtype=int64)\n"
     ]
    }
   ],
   "source": [
    "for input_text, target_text in dataset.take(1):\n",
    "    print('1st batch: input_text:', input_text)\n",
    "    print()\n",
    "    print('1st batch: target_text:', target_text)"
   ]
  },
  {
   "cell_type": "markdown",
   "metadata": {
    "id": "LNGfeWflztDE"
   },
   "source": [
    "## Build the model\n"
   ]
  },
  {
   "cell_type": "code",
   "execution_count": 69,
   "metadata": {
    "colab": {
     "base_uri": "https://localhost:8080/"
    },
    "id": "o1GR33v1zowC",
    "outputId": "49bb72b2-21bc-4134-ce49-e06fac1fdf3e"
   },
   "outputs": [
    {
     "name": "stdout",
     "output_type": "stream",
     "text": [
      "1/1 [==============================] - 0s 30ms/step\n",
      "tmp_input_array shape: (2, 8)\n",
      "tmp_input_array:\n",
      "[[6 7 1 0 8 7 3 1]\n",
      " [3 3 4 6 5 7 8 9]]\n",
      "\n",
      "tmp_output_array shape: (2, 8, 5)\n",
      "tmp_output_array:\n",
      "[[[ 0.04151643  0.0231167  -0.01633751  0.04286773 -0.04355152]\n",
      "  [ 0.00938495 -0.02481067 -0.00164186 -0.04929398  0.03796215]\n",
      "  [-0.02659696  0.01000335 -0.01204795  0.00277163 -0.04279613]\n",
      "  [ 0.02749233 -0.04163154 -0.00950166 -0.03677778 -0.01918316]\n",
      "  [ 0.04129417 -0.00156484 -0.01150776 -0.01143966 -0.00873854]\n",
      "  [ 0.00938495 -0.02481067 -0.00164186 -0.04929398  0.03796215]\n",
      "  [ 0.00959905 -0.00973655  0.01685197  0.03035713  0.00869547]\n",
      "  [-0.02659696  0.01000335 -0.01204795  0.00277163 -0.04279613]]\n",
      "\n",
      " [[ 0.00959905 -0.00973655  0.01685197  0.03035713  0.00869547]\n",
      "  [ 0.00959905 -0.00973655  0.01685197  0.03035713  0.00869547]\n",
      "  [-0.0231456   0.0124297   0.02502442  0.03341163 -0.03482996]\n",
      "  [ 0.04151643  0.0231167  -0.01633751  0.04286773 -0.04355152]\n",
      "  [ 0.04394991 -0.01423509  0.03190817  0.02996418  0.02092821]\n",
      "  [ 0.00938495 -0.02481067 -0.00164186 -0.04929398  0.03796215]\n",
      "  [ 0.04129417 -0.00156484 -0.01150776 -0.01143966 -0.00873854]\n",
      "  [ 0.00196033  0.00364544 -0.02541934  0.02243229  0.0398997 ]]]\n"
     ]
    }
   ],
   "source": [
    "tmp_vocab_size = 10\n",
    "tmp_embeding_size = 5\n",
    "tmp_input_length = 8\n",
    "tmp_batch_size = 2\n",
    "\n",
    "tmp_model = tf.keras.models.Sequential()\n",
    "tmp_model.add(tf.keras.layers.Embedding(\n",
    "  input_dim=tmp_vocab_size,\n",
    "  output_dim=tmp_embeding_size,\n",
    "  input_length=tmp_input_length\n",
    "))\n",
    "\n",
    "tmp_input_array = np.random.randint(\n",
    "  low=0,\n",
    "  high=tmp_vocab_size,\n",
    "  size=(tmp_batch_size, tmp_input_length)\n",
    ")\n",
    "tmp_model.compile('rmsprop', 'mse')\n",
    "tmp_output_array = tmp_model.predict(tmp_input_array)\n",
    "\n",
    "print('tmp_input_array shape:', tmp_input_array.shape)\n",
    "print('tmp_input_array:')\n",
    "print(tmp_input_array)\n",
    "print()\n",
    "print('tmp_output_array shape:', tmp_output_array.shape)\n",
    "print('tmp_output_array:')\n",
    "print(tmp_output_array)"
   ]
  },
  {
   "cell_type": "code",
   "execution_count": 70,
   "metadata": {
    "id": "whpnZLF5zylb"
   },
   "outputs": [],
   "source": [
    "# Length of the vocabulary in chars.\n",
    "vocab_size = len(vocab)\n",
    "\n",
    "# The embedding dimension.\n",
    "embedding_dim = 256 # 256 bcz the maximum value of ASCII code is 256\n",
    "\n",
    "# Number of RNN units.\n",
    "rnn_units = 1024"
   ]
  },
  {
   "cell_type": "code",
   "execution_count": 71,
   "metadata": {
    "id": "OLQq-IOFz4_a"
   },
   "outputs": [],
   "source": [
    "def build_model(vocab_size, embedding_dim, rnn_units, batch_size):\n",
    "    model = tf.keras.models.Sequential()\n",
    "\n",
    "    model.add(tf.keras.layers.Embedding(\n",
    "      input_dim=vocab_size,\n",
    "      output_dim=embedding_dim,\n",
    "      batch_input_shape=[batch_size, None]\n",
    "    ))\n",
    "\n",
    "    model.add(tf.keras.layers.LSTM(\n",
    "      units=rnn_units,\n",
    "      return_sequences=True,\n",
    "      stateful=True,\n",
    "      recurrent_initializer=tf.keras.initializers.GlorotNormal()\n",
    "    ))\n",
    "\n",
    "    model.add(tf.keras.layers.Dense(vocab_size)) \n",
    "    return model"
   ]
  },
  {
   "cell_type": "code",
   "execution_count": 110,
   "metadata": {
    "id": "qBwcV_wuz9jc"
   },
   "outputs": [],
   "source": [
    "model = build_model(\n",
    "    vocab_size=len(vocab),\n",
    "    embedding_dim=embedding_dim,\n",
    "    rnn_units=rnn_units,\n",
    "    batch_size=BATCH_SIZE)"
   ]
  },
  {
   "cell_type": "code",
   "execution_count": 73,
   "metadata": {
    "colab": {
     "base_uri": "https://localhost:8080/"
    },
    "id": "KOiIPcpE0AD8",
    "outputId": "4504bf0e-3ec0-4767-99c9-cc967d9998d4"
   },
   "outputs": [
    {
     "name": "stdout",
     "output_type": "stream",
     "text": [
      "Model: \"sequential_5\"\n",
      "_________________________________________________________________\n",
      " Layer (type)                Output Shape              Param #   \n",
      "=================================================================\n",
      " embedding_5 (Embedding)     (64, None, 256)           49408     \n",
      "                                                                 \n",
      " lstm_3 (LSTM)               (64, None, 1024)          5246976   \n",
      "                                                                 \n",
      " dense_3 (Dense)             (64, None, 193)           197825    \n",
      "                                                                 \n",
      "=================================================================\n",
      "Total params: 5,494,209\n",
      "Trainable params: 5,494,209\n",
      "Non-trainable params: 0\n",
      "_________________________________________________________________\n"
     ]
    }
   ],
   "source": [
    "model.summary()"
   ]
  },
  {
   "cell_type": "code",
   "execution_count": 74,
   "metadata": {
    "colab": {
     "base_uri": "https://localhost:8080/",
     "height": 422
    },
    "id": "QjHd6S4X0CFM",
    "outputId": "0c4b2ee2-c85a-4d64-e823-a8ac235e86c3"
   },
   "outputs": [
    {
     "data": {
      "image/png": "[encoded data removed]",
      "text/plain": [
       "<IPython.core.display.Image object>"
      ]
     },
     "execution_count": 74,
     "metadata": {},
     "output_type": "execute_result"
    }
   ],
   "source": [
    "tf.keras.utils.plot_model(\n",
    "    model,\n",
    "    show_shapes=True,\n",
    "    show_layer_names=True,\n",
    ")"
   ]
  },
  {
   "cell_type": "markdown",
   "metadata": {
    "id": "clIdVL2T0LHd"
   },
   "source": [
    "## Train the model\n"
   ]
  },
  {
   "cell_type": "markdown",
   "metadata": {
    "id": "lHwm2bpW0LRa"
   },
   "source": [
    "### Attach an optimizer, and a loss function\n",
    "\n",
    "The standard tf.keras.losses.sparse_categorical_crossentropy loss function works in this case because it is applied across the last dimension of the predictions.\n",
    "\n",
    "Because your model returns logits, you need to set the from_logits flag."
   ]
  },
  {
   "cell_type": "markdown",
   "metadata": {
    "id": "DvCF4_ATEgrA"
   },
   "source": [
    "# Calculate perplexity in Loss"
   ]
  },
  {
   "cell_type": "code",
   "execution_count": 75,
   "metadata": {
    "id": "Gz78lGUm0EkV"
   },
   "outputs": [],
   "source": [
    "def loss(labels, logits):\n",
    "    return tf.keras.losses.sparse_categorical_crossentropy(\n",
    "      y_true=labels,\n",
    "      y_pred=logits,\n",
    "      from_logits=True\n",
    "    )\n"
   ]
  },
  {
   "cell_type": "code",
   "execution_count": 111,
   "metadata": {
    "id": "Dg0OBP6V0V3V"
   },
   "outputs": [],
   "source": [
    "adam_optimizer = tf.keras.optimizers.Adam(learning_rate=0.001)\n",
    "model.compile(\n",
    "    optimizer=adam_optimizer,\n",
    "    loss=loss\n",
    ")"
   ]
  },
  {
   "cell_type": "markdown",
   "metadata": {
    "id": "IYtFShbq0sMA"
   },
   "source": [
    "### Configure checkpoints\n",
    "\n",
    "Use a tf.keras.callbacks.ModelCheckpoint to ensure that checkpoints are saved during training:"
   ]
  },
  {
   "cell_type": "code",
   "execution_count": 77,
   "metadata": {
    "id": "dcUY9xNz0pCc"
   },
   "outputs": [],
   "source": [
    "checkpoint_dir = 'tmp/checkpoints'\n",
    "os.makedirs(checkpoint_dir, exist_ok=True)\n",
    "\n",
    "checkpoint_prefix = os.path.join(checkpoint_dir, 'LSTM_Model_{epoch}')\n",
    "\n",
    "checkpoint_callback=tf.keras.callbacks.ModelCheckpoint(\n",
    "    filepath=checkpoint_prefix,\n",
    "    save_weights_only=True\n",
    ")"
   ]
  },
  {
   "cell_type": "code",
   "execution_count": 112,
   "metadata": {
    "id": "s5of0h4V00tQ"
   },
   "outputs": [],
   "source": [
    "EPOCHS = 40"
   ]
  },
  {
   "cell_type": "code",
   "execution_count": 113,
   "metadata": {
    "colab": {
     "base_uri": "https://localhost:8080/"
    },
    "id": "nxkP2KBm04BX",
    "outputId": "dabc9f6d-326f-4c80-a29f-816ba0c7f7fa"
   },
   "outputs": [
    {
     "name": "stdout",
     "output_type": "stream",
     "text": [
      "Epoch 1/40\n",
      "154/154 [==============================] - 13s 71ms/step - loss: 2.8213\n",
      "Epoch 2/40\n",
      "154/154 [==============================] - 12s 73ms/step - loss: 2.4571\n",
      "Epoch 3/40\n",
      "154/154 [==============================] - 12s 73ms/step - loss: 2.2384\n",
      "Epoch 4/40\n",
      "154/154 [==============================] - 12s 72ms/step - loss: 2.0398\n",
      "Epoch 5/40\n",
      "154/154 [==============================] - 12s 69ms/step - loss: 1.8873\n",
      "Epoch 6/40\n",
      "154/154 [==============================] - 12s 72ms/step - loss: 1.7830\n",
      "Epoch 7/40\n",
      "154/154 [==============================] - 13s 74ms/step - loss: 1.7095\n",
      "Epoch 8/40\n",
      "154/154 [==============================] - 12s 74ms/step - loss: 1.6536\n",
      "Epoch 9/40\n",
      "154/154 [==============================] - 12s 72ms/step - loss: 1.6115\n",
      "Epoch 10/40\n",
      "154/154 [==============================] - 12s 71ms/step - loss: 1.5764\n",
      "Epoch 11/40\n",
      "154/154 [==============================] - 12s 71ms/step - loss: 1.5466\n",
      "Epoch 12/40\n",
      "154/154 [==============================] - 12s 71ms/step - loss: 1.5199\n",
      "Epoch 13/40\n",
      "154/154 [==============================] - 12s 73ms/step - loss: 1.4946\n",
      "Epoch 14/40\n",
      "154/154 [==============================] - 13s 76ms/step - loss: 1.4720\n",
      "Epoch 15/40\n",
      "154/154 [==============================] - 12s 71ms/step - loss: 1.4505\n",
      "Epoch 16/40\n",
      "154/154 [==============================] - 12s 71ms/step - loss: 1.4296\n",
      "Epoch 17/40\n",
      "154/154 [==============================] - 12s 73ms/step - loss: 1.4097\n",
      "Epoch 18/40\n",
      "154/154 [==============================] - 12s 73ms/step - loss: 1.3897\n",
      "Epoch 19/40\n",
      "154/154 [==============================] - 12s 73ms/step - loss: 1.3710\n",
      "Epoch 20/40\n",
      "154/154 [==============================] - 12s 72ms/step - loss: 1.3504\n",
      "Epoch 21/40\n",
      "154/154 [==============================] - 12s 71ms/step - loss: 1.3327\n",
      "Epoch 22/40\n",
      "154/154 [==============================] - 12s 70ms/step - loss: 1.3130\n",
      "Epoch 23/40\n",
      "154/154 [==============================] - 12s 72ms/step - loss: 1.2942\n",
      "Epoch 24/40\n",
      "154/154 [==============================] - 13s 74ms/step - loss: 1.2736\n",
      "Epoch 25/40\n",
      "154/154 [==============================] - 12s 72ms/step - loss: 1.2550\n",
      "Epoch 26/40\n",
      "154/154 [==============================] - 12s 71ms/step - loss: 1.2353\n",
      "Epoch 27/40\n",
      "154/154 [==============================] - 12s 72ms/step - loss: 1.2159\n",
      "Epoch 28/40\n",
      "154/154 [==============================] - 12s 72ms/step - loss: 1.1962\n",
      "Epoch 29/40\n",
      "154/154 [==============================] - 12s 71ms/step - loss: 1.1760\n",
      "Epoch 30/40\n",
      "154/154 [==============================] - 12s 72ms/step - loss: 1.1558\n",
      "Epoch 31/40\n",
      "154/154 [==============================] - 12s 72ms/step - loss: 1.1352\n",
      "Epoch 32/40\n",
      "154/154 [==============================] - 12s 73ms/step - loss: 1.1149\n",
      "Epoch 33/40\n",
      "154/154 [==============================] - 12s 72ms/step - loss: 1.0956\n",
      "Epoch 34/40\n",
      "154/154 [==============================] - 12s 71ms/step - loss: 1.0752\n",
      "Epoch 35/40\n",
      "154/154 [==============================] - 12s 72ms/step - loss: 1.0550\n",
      "Epoch 36/40\n",
      "154/154 [==============================] - 12s 74ms/step - loss: 1.0352\n",
      "Epoch 37/40\n",
      "154/154 [==============================] - 12s 71ms/step - loss: 1.0149\n",
      "Epoch 38/40\n",
      "154/154 [==============================] - 12s 71ms/step - loss: 0.9952\n",
      "Epoch 39/40\n",
      "154/154 [==============================] - 12s 73ms/step - loss: 0.9772\n",
      "Epoch 40/40\n",
      "154/154 [==============================] - 12s 71ms/step - loss: 0.9577\n"
     ]
    }
   ],
   "source": [
    "history = model.fit(\n",
    "  x=dataset,\n",
    "  epochs=EPOCHS,\n",
    "  callbacks=[\n",
    "    checkpoint_callback\n",
    "  ]\n",
    ")"
   ]
  },
  {
   "cell_type": "code",
   "execution_count": 114,
   "metadata": {
    "id": "RdqR2xju07jA"
   },
   "outputs": [],
   "source": [
    "def render_training_history(training_history):\n",
    "    loss = training_history.history['loss']\n",
    "    plt.title('Loss')\n",
    "    plt.xlabel('Epoch')\n",
    "    plt.ylabel('Loss')\n",
    "    plt.plot(loss, label='Training set')\n",
    "    plt.legend()\n",
    "    plt.grid(linestyle='--', linewidth=1, alpha=0.5)\n",
    "    plt.show()"
   ]
  },
  {
   "cell_type": "code",
   "execution_count": 115,
   "metadata": {
    "colab": {
     "base_uri": "https://localhost:8080/",
     "height": 295
    },
    "id": "98k9cVOc1nvv",
    "outputId": "0e28a74f-3d04-4e35-8134-f7626bdd68d0"
   },
   "outputs": [
    {
     "data": {
      "image/png": "[encoded data removed]",
      "text/plain": [
       "<Figure size 432x288 with 1 Axes>"
      ]
     },
     "metadata": {
      "needs_background": "light"
     },
     "output_type": "display_data"
    }
   ],
   "source": [
    "render_training_history(history)"
   ]
  },
  {
   "cell_type": "markdown",
   "metadata": {
    "id": "yPw2L3Jg1tFW"
   },
   "source": [
    "## Generate text"
   ]
  },
  {
   "cell_type": "markdown",
   "metadata": {
    "id": "lme8zDnf1viK"
   },
   "source": [
    "### Restore the latest checkpoint\n"
   ]
  },
  {
   "cell_type": "code",
   "execution_count": 116,
   "metadata": {
    "colab": {
     "base_uri": "https://localhost:8080/",
     "height": 35
    },
    "id": "EnldOLz91prO",
    "outputId": "82e9c32c-4d08-49ca-fb31-06689b474c56"
   },
   "outputs": [
    {
     "data": {
      "application/vnd.google.colaboratory.intrinsic+json": {
       "type": "string"
      },
      "text/plain": [
       "'tmp/checkpoints/LSTM_Model_40'"
      ]
     },
     "execution_count": 116,
     "metadata": {},
     "output_type": "execute_result"
    }
   ],
   "source": [
    "tf.train.latest_checkpoint(checkpoint_dir)"
   ]
  },
  {
   "cell_type": "code",
   "execution_count": 117,
   "metadata": {
    "id": "VDNBLnS41yWI"
   },
   "outputs": [],
   "source": [
    "simplified_batch_size = 1\n",
    "\n",
    "model = build_model(vocab_size, embedding_dim, rnn_units, batch_size=1)\n",
    "\n",
    "model.load_weights(tf.train.latest_checkpoint(checkpoint_dir))\n",
    "\n",
    "model.build(tf.TensorShape([simplified_batch_size, None]))\n",
    "model.reset_states()"
   ]
  },
  {
   "cell_type": "code",
   "execution_count": 118,
   "metadata": {
    "id": "o8p1eM3j1z0k"
   },
   "outputs": [],
   "source": [
    "def predict_characters(base_model, char_num, starting_text):\n",
    "    input_eval = [char_to_int[s] for s in starting_text]\n",
    "    input_eval = tf.expand_dims(input_eval, 0)\n",
    "    text_generated = [starting_text]\n",
    "    for i in range(char_num):\n",
    "        predictions = base_model.predict(input_eval, verbose=0)\n",
    "        predictions = tf.squeeze(predictions, 0)\n",
    "        predicted_ids = np.array(predictions.numpy()).argmax(axis=1).reshape(-1, 1)[-1][0]\n",
    "        message = np.append(input_eval[0].numpy(), predicted_ids)[1:]\n",
    "        input_eval = tf.expand_dims(message, 0)\n",
    "        text_generated.append(int_to_char[predicted_ids])\n",
    "        \n",
    "    for i in ''.join(text_generated).split('\\n'):\n",
    "        print(i)"
   ]
  },
  {
   "cell_type": "code",
   "execution_count": 140,
   "metadata": {
    "colab": {
     "base_uri": "https://localhost:8080/"
    },
    "id": "g4ZGRCRM2JOO",
    "outputId": "015e6cb4-607c-4b64-994b-ed244319688c"
   },
   "outputs": [
    {
     "name": "stdout",
     "output_type": "stream",
     "text": [
      "مرز ایرانی را در مورد بررسی می شود. به همین دلیل نیز از سال ۱۳۸۳ خورشیدی و انجمن مهندسان \n"
     ]
    }
   ],
   "source": [
    "predict_characters(model, 80, 'مرز ایران')"
   ]
  },
  {
   "cell_type": "code",
   "execution_count": 86,
   "metadata": {
    "id": "aKuq6k7O2TOI"
   },
   "outputs": [],
   "source": []
  }
 ],
 "metadata": {
  "accelerator": "GPU",
  "colab": {
   "provenance": []
  },
  "gpuClass": "standard",
  "kernelspec": {
   "display_name": "Python 3 (ipykernel)",
   "language": "python",
   "name": "python3"
  },
  "language_info": {
   "codemirror_mode": {
    "name": "ipython",
    "version": 3
   },
   "file_extension": ".py",
   "mimetype": "text/x-python",
   "name": "python",
   "nbconvert_exporter": "python",
   "pygments_lexer": "ipython3",
   "version": "3.9.7"
  }
 },
 "nbformat": 4,
 "nbformat_minor": 1
}
